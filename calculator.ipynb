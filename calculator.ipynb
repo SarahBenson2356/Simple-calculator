{
 "cells": [
  {
   "cell_type": "markdown",
   "id": "0f5043b3",
   "metadata": {},
   "source": [
    "# simple calculator"
   ]
  },
  {
   "cell_type": "markdown",
   "id": "3723022c",
   "metadata": {},
   "source": [
    "##### Create a calculator that takes in two numbers entered by a user and performs any of the following operations.(i) Addition (ii)subtraction (iii)multiplication) (iv)division"
   ]
  },
  {
   "cell_type": "code",
   "execution_count": 6,
   "id": "c5b38407",
   "metadata": {},
   "outputs": [
    {
     "name": "stdout",
     "output_type": "stream",
     "text": [
      "enter first name -->65\n",
      "enter second number -->75\n",
      "\n",
      "enter 1 to add\n",
      "Enter 2 to subtract \n",
      "Enter 3 to multiply \n",
      "Enter 4 to divide \n",
      "-->6\n"
     ]
    },
    {
     "ename": "NameError",
     "evalue": "name 'req' is not defined",
     "output_type": "error",
     "traceback": [
      "\u001b[1;31m---------------------------------------------------------------------------\u001b[0m",
      "\u001b[1;31mNameError\u001b[0m                                 Traceback (most recent call last)",
      "Cell \u001b[1;32mIn[6], line 6\u001b[0m\n\u001b[0;32m      2\u001b[0m num2 \u001b[38;5;241m=\u001b[39m \u001b[38;5;28mint\u001b[39m(\u001b[38;5;28minput\u001b[39m(\u001b[38;5;124m'\u001b[39m\u001b[38;5;124menter second number -->\u001b[39m\u001b[38;5;124m'\u001b[39m))\n\u001b[0;32m      4\u001b[0m request \u001b[38;5;241m=\u001b[39m \u001b[38;5;28minput\u001b[39m(\u001b[38;5;124m'\u001b[39m\u001b[38;5;130;01m\\n\u001b[39;00m\u001b[38;5;124menter 1 to add\u001b[39m\u001b[38;5;130;01m\\n\u001b[39;00m\u001b[38;5;124mEnter 2 to subtract \u001b[39m\u001b[38;5;130;01m\\n\u001b[39;00m\u001b[38;5;124mEnter 3 to multiply \u001b[39m\u001b[38;5;130;01m\\n\u001b[39;00m\u001b[38;5;124mEnter 4 to divide \u001b[39m\u001b[38;5;130;01m\\n\u001b[39;00m\u001b[38;5;124m-->\u001b[39m\u001b[38;5;124m'\u001b[39m)\n\u001b[1;32m----> 6\u001b[0m \u001b[38;5;28;01mif\u001b[39;00m req \u001b[38;5;241m==\u001b[39m \u001b[38;5;124m'\u001b[39m\u001b[38;5;124m1\u001b[39m\u001b[38;5;124m'\u001b[39m:\n\u001b[0;32m      7\u001b[0m     \u001b[38;5;28mprint\u001b[39m(num1 \u001b[38;5;241m+\u001b[39m num2)\n\u001b[0;32m      8\u001b[0m \u001b[38;5;28;01melif\u001b[39;00m req \u001b[38;5;241m==\u001b[39m \u001b[38;5;124m'\u001b[39m\u001b[38;5;124m2\u001b[39m\u001b[38;5;124m'\u001b[39m:\n",
      "\u001b[1;31mNameError\u001b[0m: name 'req' is not defined"
     ]
    }
   ],
   "source": [
    "num1 = int(input('enter first name -->'))\n",
    "num2 = int(input('enter second number -->'))\n",
    "\n",
    "request = input('\\nenter 1 to add\\nEnter 2 to subtract \\nEnter 3 to multiply \\nEnter 4 to divide \\n-->')\n",
    "\n",
    "if req == '1':\n",
    "    print(num1 + num2)\n",
    "elif req == '2':\n",
    "     print(num1 - num2)\n",
    "elif req == '3':\n",
    "     print(num1 * num2)\n",
    "elif req == '4':\n",
    "     print(num1 / num2)\n",
    "else:\n",
    "    print('invalid input')"
   ]
  },
  {
   "cell_type": "code",
   "execution_count": null,
   "id": "6933fa6b",
   "metadata": {},
   "outputs": [],
   "source": []
  },
  {
   "cell_type": "code",
   "execution_count": null,
   "id": "ef36fd5e",
   "metadata": {},
   "outputs": [],
   "source": []
  }
 ],
 "metadata": {
  "kernelspec": {
   "display_name": "Python 3 (ipykernel)",
   "language": "python",
   "name": "python3"
  },
  "language_info": {
   "codemirror_mode": {
    "name": "ipython",
    "version": 3
   },
   "file_extension": ".py",
   "mimetype": "text/x-python",
   "name": "python",
   "nbconvert_exporter": "python",
   "pygments_lexer": "ipython3",
   "version": "3.11.5"
  }
 },
 "nbformat": 4,
 "nbformat_minor": 5
}
